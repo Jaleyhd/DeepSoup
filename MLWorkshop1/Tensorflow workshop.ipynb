{
 "cells": [
  {
   "cell_type": "markdown",
   "metadata": {
    "deletable": true,
    "editable": true
   },
   "source": [
    "# Tensorflow Session\n"
   ]
  },
  {
   "cell_type": "code",
   "execution_count": 1,
   "metadata": {
    "collapsed": true,
    "deletable": true,
    "editable": true
   },
   "outputs": [],
   "source": [
    "import tensorflow as tf"
   ]
  },
  {
   "cell_type": "code",
   "execution_count": 2,
   "metadata": {
    "collapsed": true,
    "deletable": true,
    "editable": true
   },
   "outputs": [],
   "source": [
    "### Variable Types\n",
    "#1. Constants\n",
    "a = tf.constant(2)\n",
    "b = tf.constant(3)\n",
    "#2. Placeholders\n",
    "#c = x = tf.placeholder(\"float\", None)\n",
    "x = tf.constant(35, name='x')\n",
    "y = tf.Variable(x + 5, name='y')"
   ]
  },
  {
   "cell_type": "code",
   "execution_count": 7,
   "metadata": {
    "collapsed": false,
    "deletable": true,
    "editable": true
   },
   "outputs": [],
   "source": [
    "sess = tf.Session()\n",
    "init = tf.global_variables_initializer()\n",
    "sess.run(init)"
   ]
  },
  {
   "cell_type": "code",
   "execution_count": 6,
   "metadata": {
    "collapsed": false,
    "deletable": true,
    "editable": true
   },
   "outputs": [
    {
     "name": "stdout",
     "output_type": "stream",
     "text": [
      "40\n"
     ]
    }
   ],
   "source": [
    "print sess.run(y)"
   ]
  },
  {
   "cell_type": "markdown",
   "metadata": {
    "deletable": true,
    "editable": true
   },
   "source": [
    "# Matrix Multiplication"
   ]
  },
  {
   "cell_type": "code",
   "execution_count": 15,
   "metadata": {
    "collapsed": false,
    "deletable": true,
    "editable": true
   },
   "outputs": [
    {
     "data": {
      "text/plain": [
       "array([[  6.],\n",
       "       [ 15.]], dtype=float32)"
      ]
     },
     "execution_count": 15,
     "metadata": {},
     "output_type": "execute_result"
    }
   ],
   "source": [
    "import numpy as np\n",
    "A=tf.placeholder(\"float\",[None,3])\n",
    "b=tf.placeholder(\"float\",[3,1])\n",
    "Aval=np.array([[1,2,3],[4,5,6]])\n",
    "bval=np.array([[1],[1],[1]])\n",
    "y=tf.matmul(A,b)\n",
    "init = tf.global_variables_initializer()\n",
    "sess.run(init)\n",
    "sess.run(y,feed_dict={A:Aval,b:bval})"
   ]
  },
  {
   "cell_type": "markdown",
   "metadata": {
    "deletable": true,
    "editable": true
   },
   "source": [
    "# Learning Mushroom Classification"
   ]
  },
  {
   "cell_type": "code",
   "execution_count": 208,
   "metadata": {
    "collapsed": false,
    "deletable": true,
    "editable": true
   },
   "outputs": [
    {
     "name": "stdout",
     "output_type": "stream",
     "text": [
      "[[ 1.  0.  0. ...,  0.  1.  0.]\n",
      " [ 0.  1.  1. ...,  1.  0.  1.]]\n"
     ]
    },
    {
     "name": "stderr",
     "output_type": "stream",
     "text": [
      "/usr/local/lib/python2.7/dist-packages/ipykernel/__main__.py:12: VisibleDeprecationWarning: using a non-integer number instead of an integer will result in an error in the future\n"
     ]
    }
   ],
   "source": [
    "import pickle as pkl\n",
    "import numpy as np\n",
    "import sys\n",
    "mushData=None;\n",
    "f = open('/home/jaley/workshop/datasets/mushrooms.pkl')\n",
    "mushdata=pkl.load(f)\n",
    "xdata = np.array(mushdata['x'],dtype=np.float32)\n",
    "xdata=(xdata-np.mean(xdata.flatten()))/np.std(xdata.flatten())\n",
    "ydata = np.zeros((8124,2)).astype(np.float32)\n",
    "for i in range(8124):\n",
    "    yval=mushdata['y'][i]\n",
    "    ydata[i,yval-1] = 1;\n",
    "xtrain,ytrain,xtest,ytest=xdata[:7124,:],ydata[:7124,:],xdata[7124:,:],ydata[7124:,:]\n",
    "f.close()\n",
    "\n",
    "print ydata.T"
   ]
  },
  {
   "cell_type": "code",
   "execution_count": 215,
   "metadata": {
    "collapsed": false,
    "deletable": true,
    "editable": true
   },
   "outputs": [
    {
     "name": "stdout",
     "output_type": "stream",
     "text": [
      "0 0.899\n",
      "10 0.898\n",
      "20 0.903\n",
      "30 0.897\n",
      "40 0.901\n",
      "50 0.903\n",
      "60 0.903\n",
      "70 0.905\n",
      "80 0.904\n",
      "90 0.904\n",
      "100 0.904\n",
      "110 0.904\n",
      "120 0.904\n",
      "130 0.904\n",
      "140 0.904\n",
      "150 0.904\n",
      "160 0.904\n",
      "170 0.904\n",
      "180 0.902\n",
      "190 0.901\n"
     ]
    }
   ],
   "source": [
    "##Gradient Descent in Tensorflow\n",
    "\n",
    "import tensorflow as tf\n",
    "sess = tf.Session()\n",
    "\n",
    "x = tf.placeholder(\"float32\",[None,21])\n",
    "y = tf.placeholder(\"float32\",[None,2])\n",
    "w = tf.Variable(np.asarray(np.random.randn(21,2),dtype=np.float32))\n",
    "b = tf.Variable(np.random.randn(2).astype('float32'))\n",
    "yest = tf.add(tf.matmul(x,w),b)\n",
    "yest = tf.nn.softmax(yest,dim=0)\n",
    "#err  = tf.reduce_sum(tf.pow(y-yest,2))/2\n",
    "err  = tf.reduce_sum(-tf.multiply(y,tf.log(yest)))\n",
    "\n",
    "grads= tf.train.GradientDescentOptimizer(0.01).minimize(err)\n",
    "\n",
    "\n",
    "init = tf.global_variables_initializer()\n",
    "with tf.Session() as sess:\n",
    "    sess.run(init)\n",
    "    for i in range(200):\n",
    "        for j in range(71):\n",
    "            xcur=xtrain[j*100:(j+1)*100,:]\n",
    "            ycur=ytrain[j*100:(j+1)*100].reshape([100,2])\n",
    "            sess.run(grads,feed_dict={x:xcur,y:ycur})\n",
    "        if i%10==0:\n",
    "            yout=sess.run(yest,feed_dict={x:xtest,y:ytest})\n",
    "            print i,float(np.sum(np.argmax(ytest,axis=1)==np.argmax(yout,axis=1)))/1000\n",
    "            \n",
    "    "
   ]
  },
  {
   "cell_type": "code",
   "execution_count": 214,
   "metadata": {
    "collapsed": false
   },
   "outputs": [
    {
     "name": "stdout",
     "output_type": "stream",
     "text": [
      "(?, 2)\n",
      "0 0.835\n",
      "10 0.93\n",
      "20 0.926\n",
      "30 0.918\n",
      "40 0.915\n",
      "50 0.914\n",
      "60 0.916\n",
      "70 0.92\n",
      "80 0.925\n",
      "90 0.928\n",
      "100 0.929\n",
      "110 0.932\n",
      "120 0.934\n",
      "130 0.938\n",
      "140 0.941\n",
      "150 0.942\n",
      "160 0.945\n",
      "170 0.947\n",
      "180 0.949\n",
      "190 0.951\n"
     ]
    }
   ],
   "source": [
    "##Gradient Descent in Tensorflow\n",
    "import tensorflow as tf\n",
    "sess = tf.Session()\n",
    "\n",
    "x = tf.placeholder(\"float32\",[None,21])\n",
    "y = tf.placeholder(\"float32\",[None,2])\n",
    "w1 = tf.Variable(np.asarray(np.random.randn(21,100),dtype=np.float32))\n",
    "w2 = tf.Variable(np.asarray(np.random.randn(100,2),dtype=np.float32))\n",
    "b1 = tf.Variable(np.asarray(np.random.randn(1,100),dtype=np.float32))\n",
    "b2 = tf.Variable(np.asarray(np.random.randn(),dtype=np.float32))\n",
    "yint = tf.add(tf.matmul(x,w1),b1)\n",
    "yest= tf.add(tf.matmul(yint,w2),b2)\n",
    "print yest.get_shape()\n",
    "yest = tf.nn.softmax(yest,dim=0)\n",
    "#err  = tf.reduce_sum(tf.pow(y-yest,2))/2\n",
    "err  = tf.reduce_sum(-tf.multiply(y,tf.log(yest)))\n",
    "grads= tf.train.GradientDescentOptimizer(0.001).minimize(err)\n",
    "\n",
    "\n",
    "init = tf.global_variables_initializer()\n",
    "with tf.Session() as sess:\n",
    "    sess.run(init)\n",
    "    for i in range(200):\n",
    "        for j in range(71):\n",
    "            xcur=xtrain[j*100:(j+1)*100,:]\n",
    "            ycur=ytrain[j*100:(j+1)*100].reshape([100,2])\n",
    "            sess.run(grads,feed_dict={x:xcur,y:ycur})\n",
    "        if i%10==0:\n",
    "            yout=sess.run(yest,feed_dict={x:xtest,y:ytest})\n",
    "            print i,float(np.sum(np.argmax(ytest,axis=1)==np.argmax(yout,axis=1)))/1000\n",
    "            \n"
   ]
  },
  {
   "cell_type": "markdown",
   "metadata": {},
   "source": [
    "# Keras MNIST Example"
   ]
  },
  {
   "cell_type": "code",
   "execution_count": null,
   "metadata": {
    "collapsed": true
   },
   "outputs": [],
   "source": []
  }
 ],
 "metadata": {
  "kernelspec": {
   "display_name": "Python 2",
   "language": "python",
   "name": "python2"
  },
  "language_info": {
   "codemirror_mode": {
    "name": "ipython",
    "version": 2
   },
   "file_extension": ".py",
   "mimetype": "text/x-python",
   "name": "python",
   "nbconvert_exporter": "python",
   "pygments_lexer": "ipython2",
   "version": "2.7.12"
  }
 },
 "nbformat": 4,
 "nbformat_minor": 2
}
