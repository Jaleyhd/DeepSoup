{
 "cells": [
  {
   "cell_type": "markdown",
   "metadata": {},
   "source": [
    "# Story of RNN\n",
    "Convolutions were never that fun, until they married to Neural Networks. But still the marriage was dry after a while with all the work shitz, and all they needed was touch of memory. And the offspring was hence named Recurrent Neural Network. Now what is this buzzing word RNN anyway?  \n",
    "### RNN is like time Travel\n",
    "Let us look at Neural Network as producing a cookie(output), based on Experience gained by chef in a team called CNN. Now RNN is just that while making the current cookie, I am not only used my friends called activation units aka chefs, but also letting my older self in time help me.  \n",
    "Cookie = Byproduct of me and friends + our older selves time travelling from 1 hour past to present.  \n"
   ]
  },
  {
   "cell_type": "markdown",
   "metadata": {},
   "source": [
    "![RNN](images/rnn.png)"
   ]
  },
  {
   "cell_type": "markdown",
   "metadata": {},
   "source": [
    "### LSTM, the beast hidden in RNN\n",
    "The shit just got real with redescovery of good old friend called LSTM"
   ]
  },
  {
   "cell_type": "markdown",
   "metadata": {},
   "source": [
    "![LSTM](images/lstm.png)"
   ]
  },
  {
   "cell_type": "markdown",
   "metadata": {},
   "source": [
    "# Neural Translation - Decoding extraterrestrial language :p\n",
    "Just to give a heads up, this is **NOT** possible. We need a lot of training data for this and a translator who knows both language. Probably Jim Carrey would do. Lets get serious and see, how language translation is a difficult task. If I speak \"Thanks for the amazing dinner\" in English, it gets translated into \"Obrigado pelo jantar incrível\" in Portugese or \"अद्भुत रात के खाने के लिए धन्यवाद\" in Hindi. Now you can observe a few things\n",
    "* Multiple words are mapped to single word/multple words. i.e it is not one to one\n",
    "* Arrangement of words is not the same\n",
    "Hense Translation includes understanding of context, aligning of words, literal word translations,etc.  \n",
    "\n",
    "### Learning to align and Translate, ICLR-2015 ([pdf](https://arxiv.org/pdf/1409.0473v7.pdf))\n",
    "\n",
    "\n"
   ]
  },
  {
   "cell_type": "markdown",
   "metadata": {},
   "source": [
    "![TranslateAndAlign](images/translateandalign.png)"
   ]
  },
  {
   "cell_type": "code",
   "execution_count": null,
   "metadata": {
    "collapsed": true
   },
   "outputs": [],
   "source": []
  }
 ],
 "metadata": {
  "kernelspec": {
   "display_name": "Python 2",
   "language": "python",
   "name": "python2"
  },
  "language_info": {
   "codemirror_mode": {
    "name": "ipython",
    "version": 2
   },
   "file_extension": ".py",
   "mimetype": "text/x-python",
   "name": "python",
   "nbconvert_exporter": "python",
   "pygments_lexer": "ipython2",
   "version": "2.7.12"
  }
 },
 "nbformat": 4,
 "nbformat_minor": 1
}
