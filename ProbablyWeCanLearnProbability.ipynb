{
 "cells": [
  {
   "cell_type": "markdown",
   "metadata": {},
   "source": [
    "# Probably we can learn Probability"
   ]
  },
  {
   "cell_type": "markdown",
   "metadata": {},
   "source": [
    "![probbasics1](images/probbasics1.png)\n",
    "![probbasics1](images/probbasics2.png)\n",
    "![probbasics1](images/probbasics3.png)\n",
    "![probbasics1](images/probbasics4.png)\n"
   ]
  },
  {
   "cell_type": "markdown",
   "metadata": {},
   "source": [
    "# Let us burn Bernoulli Distribution \n",
    "![probbasics1](images/bernoulli.png)\n",
    "![probbasics1](images/bernoulli2.png)\n",
    "![probbasics1](images/bernoulli3.png)\n",
    "![probbasics1](images/bernoulli4.png)\n",
    "![probbasics1](images/bernoulli5.png)\n",
    "![probbasics1](images/bernoulli6.png)\n"
   ]
  },
  {
   "cell_type": "code",
   "execution_count": null,
   "metadata": {
    "collapsed": true
   },
   "outputs": [],
   "source": []
  }
 ],
 "metadata": {
  "kernelspec": {
   "display_name": "Python 2",
   "language": "python",
   "name": "python2"
  },
  "language_info": {
   "codemirror_mode": {
    "name": "ipython",
    "version": 2
   },
   "file_extension": ".py",
   "mimetype": "text/x-python",
   "name": "python",
   "nbconvert_exporter": "python",
   "pygments_lexer": "ipython2",
   "version": "2.7.12"
  }
 },
 "nbformat": 4,
 "nbformat_minor": 1
}
