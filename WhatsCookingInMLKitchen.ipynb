{
 "cells": [
  {
   "cell_type": "markdown",
   "metadata": {},
   "source": [
    "# What's cooking in ML(Hell's) Kitchen?\n",
    "As Gorden Ramsey say's, you gotta be tough and accurate, cooking ain't easy.  But in recent years, ML has cooked up so many stories? So many papers to a point Reviewers had to tweet as bellow "
   ]
  },
  {
   "cell_type": "markdown",
   "metadata": {},
   "source": [
    "![fchollet](images/fchollet1.png)"
   ]
  },
  {
   "cell_type": "markdown",
   "metadata": {},
   "source": [
    "The opensource environment has electified the minds of common researchers like you and me and have let us do some shit beyond our own imaginations. The credit goes to opened up ML Community,git,python,opensource and so on . . .  \n",
    "Let us now look at the fundamental question, **What is ML?**. Answer is not as important as question, and we must keep up the curiosity.  \n",
    "\n",
    "## Evolution Story of ML\n"
   ]
  },
  {
   "cell_type": "markdown",
   "metadata": {},
   "source": [
    "![mlhistory](images/mlhistory.png)"
   ]
  },
  {
   "cell_type": "markdown",
   "metadata": {},
   "source": [
    "Like every great story, ML's story has its own heroes and villians. It has seen darkest of its times when AI-Winter dawned in 1970's. It was almost like people started expecting a sea in a desert, after a few spells of rain. AI and ML becoming self conscious,etc were the kind of promises which were marketed, and the sad part was that computational devices were yet to bloom. That is why **story of GPU's and Story of ML** have a common growth trajactory.\n",
    "### Ok now, seriously man, what the hell is ML?\n",
    "ML = Machine learning (Bazinga!)  \n",
    "Readers : *That would be the lamest joke you could ever crack (lame dude!)*\n",
    "\n",
    "Lets talk about a few controversial experiments being conducted in 1940s and 1950's.Scientists like Colin Blackmore tried to put a cat baby in a box filled with only vertical lines.[Controversial Cat Experiment Video](https://www.youtube.com/watch?v=QzkMo45pcUo)\n",
    " Now the visual cortex of that cat was **NOT** trained to identify horizontal lines as patterns. After 3 months, the baby was brought out of the conditional environment.Now, when they kept a vertical stick in front of the cat, it pawned at it, just like a normal cat, but it had **literally no reaction** to horizontal stick . . .  \n",
    "This gave an idea that neurons are learning sensory patterns in the nature somehow. We need to model this behavior. The most famous statement that I recall was given by Donald (Not Trump, its Donald Hebb) called Hebbian Learning. It said  \n",
    "\n",
    "*Neurons that fire together, wire together*  \n",
    "\n",
    "Sounds pretty obvious right? But isn't the most obvious that is almost always missed?  This simple principle has been a cornerstone in neuroscience and has also inspired the proper formulation of backpropagation.  \n",
    "\n"
   ]
  },
  {
   "cell_type": "markdown",
   "metadata": {},
   "source": [
    "![mlintro](images/mlintro1.png)"
   ]
  },
  {
   "cell_type": "markdown",
   "metadata": {},
   "source": [
    "# ML - Simplest Example"
   ]
  },
  {
   "cell_type": "markdown",
   "metadata": {},
   "source": [
    "![mlintro2](images/mlintro2.png)"
   ]
  },
  {
   "cell_type": "code",
   "execution_count": null,
   "metadata": {
    "collapsed": true
   },
   "outputs": [],
   "source": []
  }
 ],
 "metadata": {
  "kernelspec": {
   "display_name": "Python 2",
   "language": "python",
   "name": "python2"
  },
  "language_info": {
   "codemirror_mode": {
    "name": "ipython",
    "version": 2
   },
   "file_extension": ".py",
   "mimetype": "text/x-python",
   "name": "python",
   "nbconvert_exporter": "python",
   "pygments_lexer": "ipython2",
   "version": "2.7.12"
  }
 },
 "nbformat": 4,
 "nbformat_minor": 1
}
